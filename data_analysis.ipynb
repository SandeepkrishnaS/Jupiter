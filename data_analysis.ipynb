import pandas as pd
import matplotlib.pyplot as plt

# Sample Data (replace with your own data)
data = {'Name': ['Alice', 'Bob', 'Charlie'],
        'Age': [25, 30, 28],
        'Salary': [50000, 60000, 55000]}

df = pd.DataFrame(data)

# Basic Data Exploration
print(df.head())
print(df.describe())

# Visualization
plt.figure(figsize=(8, 6))
plt.bar(df['Name'], df['Salary'])
plt.xlabel('Name')
plt.ylabel('Salary')
plt.title('Salary by Name')
plt.show()
